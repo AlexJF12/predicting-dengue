{
 "cells": [
  {
   "cell_type": "markdown",
   "metadata": {},
   "source": [
    "# Pickle data\n",
    "Preserve cleaned data for future use in other notebooks"
   ]
  },
  {
   "cell_type": "code",
   "execution_count": 2,
   "metadata": {
    "collapsed": true
   },
   "outputs": [],
   "source": [
    "import pandas as pd# read in features, parse the date column to date object\n",
    "\n",
    "df = pd.read_csv('datasets/dengue_features_train.csv', parse_dates=[3])\n",
    "target = pd.read_csv('datasets/dengue_labels_train.csv')\n",
    "\n",
    "# add total cases into df\n",
    "df['total_cases'] = target['total_cases']\n",
    "\n",
    "# create new datasets\n",
    "\n",
    "df_sj = df[df['city'] == 'sj']\n",
    "df_iq = df[df['city'] == 'iq']\n",
    "\n",
    "## FrontFill to Impute into Missing values\n",
    "\n",
    "df_sj = df_sj.fillna(method = 'ffill')\n",
    "df_iq = df_iq.fillna(method = 'ffill')\n",
    "\n",
    "# set index to the dates\n",
    "df_sj.set_index('week_start_date', drop = True, inplace = True)\n",
    "df_iq.set_index('week_start_date', drop = True, inplace = True)\n",
    "\n",
    "#drop non-numerical values\n",
    "df_sj.drop(['city', 'year', 'weekofyear'], axis = 1, inplace = True)\n",
    "df_iq.drop(['city', 'year', 'weekofyear'], axis = 1, inplace = True)"
   ]
  },
  {
   "cell_type": "code",
   "execution_count": 5,
   "metadata": {},
   "outputs": [],
   "source": [
    "# save to pickle file\n",
    "df_iq.to_pickle('df_iq.pkl')\n",
    "df_sj.to_pickle('df_sj.pkl')"
   ]
  }
 ],
 "metadata": {
  "kernelspec": {
   "display_name": "Python 2",
   "language": "python",
   "name": "python2"
  },
  "language_info": {
   "codemirror_mode": {
    "name": "ipython",
    "version": 2
   },
   "file_extension": ".py",
   "mimetype": "text/x-python",
   "name": "python",
   "nbconvert_exporter": "python",
   "pygments_lexer": "ipython2",
   "version": "2.7.13"
  }
 },
 "nbformat": 4,
 "nbformat_minor": 2
}
