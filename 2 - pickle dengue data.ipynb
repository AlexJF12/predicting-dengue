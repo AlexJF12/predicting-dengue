{
 "cells": [
  {
   "cell_type": "markdown",
   "metadata": {},
   "source": [
    "# Pickle data\n",
    "Preserve cleaned data for future use in other notebooks"
   ]
  },
  {
   "cell_type": "code",
   "execution_count": 66,
   "metadata": {
    "collapsed": true
   },
   "outputs": [],
   "source": [
    "import pandas as pd\n",
    "# read in features, parse the date column to date object\n",
    "\n",
    "df = pd.read_csv('datasets/dengue_features_train.csv', parse_dates=[3])\n",
    "target = pd.read_csv('datasets/dengue_labels_train.csv')\n",
    "\n",
    "# add total cases into df\n",
    "df['total_cases'] = target['total_cases']\n",
    "\n",
    "# create new datasets\n",
    "\n",
    "df_sj = df[df['city'] == 'sj']\n",
    "df_iq = df[df['city'] == 'iq']\n",
    "\n",
    "## FrontFill to Impute into Missing values\n",
    "\n",
    "df_sj = df_sj.fillna(method = 'ffill')\n",
    "df_iq = df_iq.fillna(method = 'ffill')\n",
    "\n",
    "# set index to the dates\n",
    "df_sj.set_index('week_start_date', drop = True, inplace = True)\n",
    "df_iq.set_index('week_start_date', drop = True, inplace = True)\n",
    "\n",
    "#drop non-numerical values\n",
    "df_sj.drop(['city', 'year'], axis = 1, inplace = True)\n",
    "df_iq.drop(['city', 'year'], axis = 1, inplace = True)"
   ]
  },
  {
   "cell_type": "code",
   "execution_count": 67,
   "metadata": {
    "collapsed": true
   },
   "outputs": [],
   "source": [
    "# save to pickle file\n",
    "df_iq.to_pickle('datasets/df_iq.pkl')\n",
    "df_sj.to_pickle('datasets/df_sj.pkl')"
   ]
  },
  {
   "cell_type": "markdown",
   "metadata": {},
   "source": [
    "### All training features set in one df"
   ]
  },
  {
   "cell_type": "code",
   "execution_count": 75,
   "metadata": {
    "collapsed": true
   },
   "outputs": [],
   "source": [
    "train = pd.read_csv('datasets/dengue_features_train.csv', parse_dates=[3])\n",
    "test = pd.read_csv('datasets/dengue_features_test.csv', parse_dates=[3])"
   ]
  },
  {
   "cell_type": "code",
   "execution_count": 84,
   "metadata": {},
   "outputs": [
    {
     "name": "stdout",
     "output_type": "stream",
     "text": [
      "1456\n",
      "416\n",
      "1872\n"
     ]
    }
   ],
   "source": [
    "full_df = pd.concat([train, test], axis = 0)\n",
    "print len(train)\n",
    "print len(test)\n",
    "print len(full_df)"
   ]
  },
  {
   "cell_type": "code",
   "execution_count": 70,
   "metadata": {
    "collapsed": true
   },
   "outputs": [],
   "source": [
    "all_sj = full_df[full_df['city'] == 'sj']\n",
    "all_iq = full_df[full_df['city'] == 'iq']"
   ]
  },
  {
   "cell_type": "code",
   "execution_count": 71,
   "metadata": {
    "collapsed": true
   },
   "outputs": [],
   "source": [
    "## FrontFill to Impute into Missing values\n",
    "\n",
    "all_sj = all_sj.fillna(method = 'ffill')\n",
    "all_iq = all_iq.fillna(method = 'ffill')\n",
    "\n",
    "# set index to the dates\n",
    "all_sj.set_index('week_start_date', drop = True, inplace = True)\n",
    "all_iq.set_index('week_start_date', drop = True, inplace = True)\n",
    "\n",
    "#drop non-numerical values\n",
    "all_sj.drop(['city', 'year'], axis = 1, inplace = True)\n",
    "all_iq.drop(['city', 'year'], axis = 1, inplace = True)"
   ]
  },
  {
   "cell_type": "code",
   "execution_count": 72,
   "metadata": {
    "collapsed": true
   },
   "outputs": [],
   "source": [
    "# save to pickle file\n",
    "all_iq.to_pickle('datasets/all_iq.pkl')\n",
    "all_sj.to_pickle('datasets/all_sj.pkl')"
   ]
  }
 ],
 "metadata": {
  "kernelspec": {
   "display_name": "Python 2",
   "language": "python",
   "name": "python2"
  },
  "language_info": {
   "codemirror_mode": {
    "name": "ipython",
    "version": 2
   },
   "file_extension": ".py",
   "mimetype": "text/x-python",
   "name": "python",
   "nbconvert_exporter": "python",
   "pygments_lexer": "ipython2",
   "version": "2.7.13"
  }
 },
 "nbformat": 4,
 "nbformat_minor": 2
}
