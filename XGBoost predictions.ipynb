{
 "cells": [
  {
   "cell_type": "markdown",
   "metadata": {},
   "source": [
    "# XGBOOST - PREDICT cases"
   ]
  },
  {
   "cell_type": "code",
   "execution_count": 1,
   "metadata": {
    "collapsed": true
   },
   "outputs": [],
   "source": [
    "import pandas as pd\n",
    "import numpy as np\n",
    "\n",
    "import matplotlib.pyplot as plt\n",
    "import seaborn as sns\n",
    "%matplotlib inline\n",
    "plt.style.use('bmh')\n",
    "\n",
    "from sklearn.preprocessing import StandardScaler\n",
    "from sklearn.linear_model import LinearRegression, LogisticRegression\n",
    "from sklearn.ensemble import RandomForestRegressor, RandomForestClassifier\n",
    "from sklearn.model_selection import GridSearchCV\n",
    "\n",
    "from sklearn.metrics import mean_absolute_error"
   ]
  },
  {
   "cell_type": "code",
   "execution_count": 2,
   "metadata": {
    "collapsed": true
   },
   "outputs": [],
   "source": [
    "# read in pickled features\n",
    "df_sj = pd.read_pickle('./datasets/all_sj.pkl')\n",
    "df_iq = pd.read_pickle('./datasets/all_iq.pkl')\n",
    "\n",
    "total_cases = pd.read_csv('./datasets/dengue_labels_train.csv')\n",
    "cases_sj = total_cases[total_cases['city'] == 'sj']['total_cases']\n",
    "cases_iq = total_cases[total_cases['city'] == 'iq']['total_cases']\n",
    "\n",
    "# create month variable\n",
    "df_sj['month'] = df_sj.index.month\n",
    "df_iq['month'] = df_iq.index.month\n",
    "\n",
    "# create mean ndvi\n",
    "df_sj['ndvi_mean'] = (df_sj['ndvi_ne'] + df_sj['ndvi_nw'] + df_sj['ndvi_se'] + df_sj['ndvi_sw']) / 4.0\n",
    "df_iq['ndvi_mean'] = (df_iq['ndvi_ne'] + df_iq['ndvi_nw'] + df_iq['ndvi_se'] + df_iq['ndvi_sw']) / 4.0"
   ]
  },
  {
   "cell_type": "markdown",
   "metadata": {},
   "source": [
    "## Train-Validation-Test Split\n",
    "Because this is time-series data and the features set is dependent on the past, the train test split is very delicate. The validation and test feature set will actually draw from data in the past (rolling mean, std, etc.). Therefore, when creating the model, the entire dataset must be used. But I must be careful not to train the model on data from the 'future'."
   ]
  },
  {
   "cell_type": "code",
   "execution_count": 3,
   "metadata": {},
   "outputs": [
    {
     "name": "stdout",
     "output_type": "stream",
     "text": [
      "675 675 675\n",
      "261 261 261\n",
      "260 260\n"
     ]
    }
   ],
   "source": [
    "# train test split\n",
    "#sj\n",
    "\n",
    "# choose split dates\n",
    "sj_valid_split = '2003-4-20'\n",
    "sj_test_split = '2008-4-27' # this will split between pre and post submission dates\n",
    "\n",
    "# split into train, valid, test (no y)\n",
    "sj_train = df_sj.loc[:sj_valid_split]\n",
    "sj_Xtrain = sj_train\n",
    "sj_ytrain = cases_sj[:len(sj_train)]\n",
    "\n",
    "sj_valid = df_sj.loc[sj_valid_split : sj_test_split]\n",
    "sj_Xvalid = sj_valid\n",
    "sj_yvalid = cases_sj[len(sj_train):]\n",
    "\n",
    "sj_test = df_sj.loc[sj_test_split:]\n",
    "sj_Xtest = sj_test\n",
    "\n",
    "print len(sj_train), len(sj_Xtrain), len(sj_ytrain)\n",
    "print len(sj_valid), len(sj_Xvalid), len(sj_yvalid)\n",
    "print len(sj_test), len(sj_Xtest)"
   ]
  },
  {
   "cell_type": "code",
   "execution_count": 4,
   "metadata": {},
   "outputs": [
    {
     "name": "stdout",
     "output_type": "stream",
     "text": [
      "364 364 364\n",
      "156 156 156\n",
      "156 156\n"
     ]
    }
   ],
   "source": [
    "#iq\n",
    "\n",
    "# choose split dates\n",
    "iq_valid_split = '2007-7-01'\n",
    "iq_test_split = '2010-7-01' # this will split between pre and post submission dates\n",
    "\n",
    "# split\n",
    "iq_train = df_iq.loc[:iq_valid_split]\n",
    "iq_Xtrain = iq_train\n",
    "iq_ytrain = cases_iq[:len(iq_Xtrain)]\n",
    "\n",
    "iq_valid = df_iq.loc[iq_valid_split : iq_test_split]\n",
    "iq_Xvalid = iq_valid\n",
    "iq_yvalid = cases_iq[len(iq_train):]\n",
    "\n",
    "iq_test = df_iq.loc[iq_test_split:]\n",
    "iq_Xtest = iq_test\n",
    "\n",
    "# check the lengths\n",
    "print len(iq_train), len(iq_Xtrain), len(iq_ytrain)\n",
    "print len(iq_valid), len(iq_Xvalid), len(iq_yvalid)\n",
    "print len(iq_test), len(iq_Xtest)"
   ]
  },
  {
   "cell_type": "markdown",
   "metadata": {},
   "source": [
    "## Test XGBoost GridSearch on validation data"
   ]
  },
  {
   "cell_type": "code",
   "execution_count": 5,
   "metadata": {
    "collapsed": true
   },
   "outputs": [],
   "source": [
    "from xgboost.sklearn import XGBRegressor\n",
    "from sklearn.model_selection import GridSearchCV"
   ]
  },
  {
   "cell_type": "code",
   "execution_count": 32,
   "metadata": {
    "collapsed": true
   },
   "outputs": [],
   "source": [
    "#set up training data\n",
    "months = pd.get_dummies(sj_Xtrain['month'], prefix='month')\n",
    "weather = sj_Xtrain.drop(['month', 'weekofyear'], axis = 1)\n",
    "weather2 = weather.rolling(window = 53, min_periods=1).mean()\n",
    "weather2.columns = [str(i) + '_2' for i in weather2.columns]\n",
    "train = pd.concat([months, weather, weather2], axis = 1)"
   ]
  },
  {
   "cell_type": "code",
   "execution_count": 42,
   "metadata": {},
   "outputs": [
    {
     "name": "stdout",
     "output_type": "stream",
     "text": [
      "Fitting 3 folds for each of 64 candidates, totalling 192 fits\n"
     ]
    },
    {
     "name": "stderr",
     "output_type": "stream",
     "text": [
      "[Parallel(n_jobs=1)]: Done 192 out of 192 | elapsed:   58.3s finished\n"
     ]
    },
    {
     "data": {
      "text/plain": [
       "XGBRegressor(base_score=0.5, booster='gbtree', colsample_bylevel=1,\n",
       "       colsample_bytree=1, gamma=0, learning_rate=0.050000000000000003,\n",
       "       max_delta_step=0, max_depth=12, min_child_weight=6, missing=None,\n",
       "       n_estimators=10, n_jobs=1, nthread=None, objective='reg:linear',\n",
       "       random_state=0, reg_alpha=0, reg_lambda=1, scale_pos_weight=1,\n",
       "       seed=None, silent=True, subsample=1)"
      ]
     },
     "execution_count": 42,
     "metadata": {},
     "output_type": "execute_result"
    }
   ],
   "source": [
    "# grid search for best fit\n",
    "\n",
    "params = {  \n",
    "    \"booster\" : ('gblinear', 'gbtree'), \n",
    "    \"n_estimators\": [10, 200],\n",
    "    \"max_depth\": [12, 15],\n",
    "    \"learning_rate\": np.linspace(0.05, 0.3, 4),\n",
    "    \"min_child_weight\": (4, 6)\n",
    "}\n",
    "\n",
    "xgbreg = XGBRegressor()\n",
    "\n",
    "gs = GridSearchCV(xgbreg, params, n_jobs=1, verbose = 1)  \n",
    "gs.fit(train, sj_ytrain)  \n",
    "gs.best_estimator_"
   ]
  },
  {
   "cell_type": "code",
   "execution_count": 43,
   "metadata": {},
   "outputs": [
    {
     "name": "stdout",
     "output_type": "stream",
     "text": [
      "18.3853676913\n",
      "0.00587746736777\n"
     ]
    },
    {
     "data": {
      "image/png": "[encoded data removed]",
      "text/plain": [
       "<matplotlib.figure.Figure at 0x114160650>"
      ]
     },
     "metadata": {},
     "output_type": "display_data"
    }
   ],
   "source": [
    "months = pd.get_dummies(sj_Xvalid['month'], prefix='month')\n",
    "weather = sj_Xvalid.drop(['month', 'weekofyear'], axis = 1)\n",
    "weather2 = weather.rolling(window = 53, min_periods=1).mean()\n",
    "weather2.columns = [str(i) + '_2' for i in weather2.columns]\n",
    "valid = pd.concat([months, weather, weather2], axis = 1)\n",
    "\n",
    "# make and plot predictions, scores\n",
    "preds = pd.Series(gs.predict(valid))\n",
    "# preds = preds.rolling(2, min_periods=1, center = True).mean()\n",
    "plt.plot(sj_yvalid.values, alpha = .75)\n",
    "plt.plot(preds)\n",
    "print mean_absolute_error(preds, sj_yvalid.values)\n",
    "print gs.score(valid, sj_yvalid)"
   ]
  },
  {
   "cell_type": "markdown",
   "metadata": {},
   "source": [
    "### XGBoost to predict test data"
   ]
  },
  {
   "cell_type": "code",
   "execution_count": 45,
   "metadata": {},
   "outputs": [
    {
     "name": "stdout",
     "output_type": "stream",
     "text": [
      "Fitting 3 folds for each of 64 candidates, totalling 192 fits\n"
     ]
    },
    {
     "name": "stderr",
     "output_type": "stream",
     "text": [
      "[Parallel(n_jobs=1)]: Done 192 out of 192 | elapsed:  1.4min finished\n"
     ]
    },
    {
     "name": "stdout",
     "output_type": "stream",
     "text": [
      "0.116478965382\n"
     ]
    },
    {
     "data": {
      "image/png": "[encoded data removed]",
      "text/plain": [
       "<matplotlib.figure.Figure at 0x117b6c9d0>"
      ]
     },
     "metadata": {},
     "output_type": "display_data"
    }
   ],
   "source": [
    "#set up training data\n",
    "sj_Xtrain2 = pd.concat([sj_Xtrain, sj_Xvalid], axis = 0)\n",
    "sj_ytrain2 = pd.concat([sj_ytrain, sj_yvalid], axis = 0)\n",
    "months = pd.get_dummies(sj_Xtrain2['month'], prefix='month')\n",
    "weather = sj_Xtrain2.drop(['month', 'weekofyear'], axis = 1)\n",
    "weather2 = weather.rolling(window = 53, min_periods=1).mean()\n",
    "weather2.columns = [str(i) + '_2' for i in weather2.columns]\n",
    "train = pd.concat([months, weather, weather2], axis = 1)\n",
    "\n",
    "# grid search for best fit\n",
    "\n",
    "params = {  \n",
    "    \"booster\" : ('gblinear', 'gbtree'), \n",
    "    \"n_estimators\": [10, 200],\n",
    "    \"max_depth\": [12, 15],\n",
    "    \"learning_rate\": np.linspace(0.05, 0.3, 4),\n",
    "    \"min_child_weight\": (4, 6)\n",
    "}\n",
    "\n",
    "xgbreg = XGBRegressor()\n",
    "\n",
    "gs = GridSearchCV(xgbreg, params, n_jobs=1, verbose = 1)  \n",
    "gs.fit(train, sj_ytrain2)  \n",
    "gs.best_estimator_\n",
    "\n",
    "months = pd.get_dummies(sj_Xtest['month'], prefix='month')\n",
    "weather = sj_Xtest.drop(['month', 'weekofyear'], axis = 1)\n",
    "weather2 = weather.rolling(window = 53, min_periods=1).mean()\n",
    "weather2.columns = [str(i) + '_2' for i in weather2.columns]\n",
    "test = pd.concat([months, weather, weather2], axis = 1)\n",
    "\n",
    "# make predictions\n",
    "sj_preds = pd.Series(gs.predict(test))\n",
    "sj_preds = sj_preds.rolling(3, min_periods=1).mean().apply(lambda x: int(x))\n",
    "\n",
    "# plot\n",
    "plt.plot(sj_preds)\n",
    "print gs.score(train, sj_ytrain2)"
   ]
  },
  {
   "cell_type": "code",
   "execution_count": 46,
   "metadata": {},
   "outputs": [
    {
     "name": "stdout",
     "output_type": "stream",
     "text": [
      "Fitting 3 folds for each of 64 candidates, totalling 192 fits\n"
     ]
    },
    {
     "name": "stderr",
     "output_type": "stream",
     "text": [
      "[Parallel(n_jobs=1)]: Done 192 out of 192 | elapsed:   41.9s finished\n"
     ]
    },
    {
     "name": "stdout",
     "output_type": "stream",
     "text": [
      "0.197958096806\n"
     ]
    },
    {
     "data": {
      "image/png": "[encoded data removed]",
      "text/plain": [
       "<matplotlib.figure.Figure at 0x117860b10>"
      ]
     },
     "metadata": {},
     "output_type": "display_data"
    }
   ],
   "source": [
    "#set up training data\n",
    "iq_Xtrain2 = pd.concat([iq_Xtrain, iq_Xvalid], axis = 0)\n",
    "iq_ytrain2 = pd.concat([iq_ytrain, iq_yvalid], axis = 0)\n",
    "months = pd.get_dummies(iq_Xtrain2['month'], prefix='month')\n",
    "weather = iq_Xtrain2.drop(['month', 'weekofyear'], axis = 1)\n",
    "weather2 = weather.rolling(window = 53, min_periods=1).mean()\n",
    "weather2.columns = [str(i) + '_2' for i in weather2.columns]\n",
    "train = pd.concat([months, weather, weather2], axis = 1)\n",
    "\n",
    "# grid search for best fit\n",
    "\n",
    "params = {  \n",
    "    \"booster\" : ('gblinear', 'gbtree'), \n",
    "    \"n_estimators\": [10, 200],\n",
    "    \"max_depth\": [12, 15],\n",
    "    \"learning_rate\": np.linspace(0.05, 0.3, 4),\n",
    "    \"min_child_weight\": (4, 6)\n",
    "}\n",
    "\n",
    "xgbreg = XGBRegressor()\n",
    "\n",
    "gs = GridSearchCV(xgbreg, params, n_jobs=1, verbose = 1)  \n",
    "gs.fit(train, iq_ytrain2)  \n",
    "gs.best_estimator_\n",
    "\n",
    "months = pd.get_dummies(iq_Xtest['month'], prefix='month')\n",
    "weather = iq_Xtest.drop(['month', 'weekofyear'], axis = 1)\n",
    "weather2 = weather.rolling(window = 53, min_periods=1).mean()\n",
    "weather2.columns = [str(i) + '_2' for i in weather2.columns]\n",
    "test = pd.concat([months, weather, weather2], axis = 1)\n",
    "\n",
    "# make predictions\n",
    "iq_preds = pd.Series(gs.predict(test))\n",
    "iq_preds = iq_preds.rolling(3, min_periods=1).mean().apply(lambda x: int(x))\n",
    "\n",
    "# plot\n",
    "plt.plot(iq_preds)\n",
    "print gs.score(train, iq_ytrain2)"
   ]
  },
  {
   "cell_type": "code",
   "execution_count": 47,
   "metadata": {
    "collapsed": true
   },
   "outputs": [],
   "source": [
    "## combine predictions in submission"
   ]
  },
  {
   "cell_type": "code",
   "execution_count": 50,
   "metadata": {
    "collapsed": true
   },
   "outputs": [],
   "source": [
    "all_preds = pd.concat([sj_preds, iq_preds], axis = 0).reset_index(drop=True)\n",
    "\n",
    "# import submission\n",
    "submission_format = pd.read_csv('./datasets/submission_format.csv')\n",
    "submission_format['total_cases'] = all_preds\n",
    "\n",
    "# Save to CSV, use current date\n",
    "submission_format.to_csv('submissions/dengue_submission_9_18_17v1.csv', index=False)"
   ]
  },
  {
   "cell_type": "code",
   "execution_count": 51,
   "metadata": {},
   "outputs": [
    {
     "data": {
      "text/html": [
       "<div>\n",
       "<style>\n",
       "    .dataframe thead tr:only-child th {\n",
       "        text-align: right;\n",
       "    }\n",
       "\n",
       "    .dataframe thead th {\n",
       "        text-align: left;\n",
       "    }\n",
       "\n",
       "    .dataframe tbody tr th {\n",
       "        vertical-align: top;\n",
       "    }\n",
       "</style>\n",
       "<table border=\"1\" class=\"dataframe\">\n",
       "  <thead>\n",
       "    <tr style=\"text-align: right;\">\n",
       "      <th></th>\n",
       "      <th>city</th>\n",
       "      <th>year</th>\n",
       "      <th>weekofyear</th>\n",
       "      <th>total_cases</th>\n",
       "    </tr>\n",
       "  </thead>\n",
       "  <tbody>\n",
       "    <tr>\n",
       "      <th>0</th>\n",
       "      <td>sj</td>\n",
       "      <td>2008</td>\n",
       "      <td>18</td>\n",
       "      <td>16</td>\n",
       "    </tr>\n",
       "    <tr>\n",
       "      <th>1</th>\n",
       "      <td>sj</td>\n",
       "      <td>2008</td>\n",
       "      <td>19</td>\n",
       "      <td>16</td>\n",
       "    </tr>\n",
       "    <tr>\n",
       "      <th>2</th>\n",
       "      <td>sj</td>\n",
       "      <td>2008</td>\n",
       "      <td>20</td>\n",
       "      <td>16</td>\n",
       "    </tr>\n",
       "    <tr>\n",
       "      <th>3</th>\n",
       "      <td>sj</td>\n",
       "      <td>2008</td>\n",
       "      <td>21</td>\n",
       "      <td>16</td>\n",
       "    </tr>\n",
       "    <tr>\n",
       "      <th>4</th>\n",
       "      <td>sj</td>\n",
       "      <td>2008</td>\n",
       "      <td>22</td>\n",
       "      <td>18</td>\n",
       "    </tr>\n",
       "  </tbody>\n",
       "</table>\n",
       "</div>"
      ],
      "text/plain": [
       "  city  year  weekofyear  total_cases\n",
       "0   sj  2008          18           16\n",
       "1   sj  2008          19           16\n",
       "2   sj  2008          20           16\n",
       "3   sj  2008          21           16\n",
       "4   sj  2008          22           18"
      ]
     },
     "execution_count": 51,
     "metadata": {},
     "output_type": "execute_result"
    }
   ],
   "source": [
    "submission_format.head()"
   ]
  },
  {
   "cell_type": "markdown",
   "metadata": {
    "collapsed": true
   },
   "source": [
    "### Submitted to DataDriven:\n",
    "* First MAE = 27.37\n",
    "* Second MAE = 26.07\n",
    "* Not good"
   ]
  },
  {
   "cell_type": "code",
   "execution_count": null,
   "metadata": {
    "collapsed": true
   },
   "outputs": [],
   "source": []
  }
 ],
 "metadata": {
  "kernelspec": {
   "display_name": "Python 2",
   "language": "python",
   "name": "python2"
  },
  "language_info": {
   "codemirror_mode": {
    "name": "ipython",
    "version": 2
   },
   "file_extension": ".py",
   "mimetype": "text/x-python",
   "name": "python",
   "nbconvert_exporter": "python",
   "pygments_lexer": "ipython2",
   "version": "2.7.13"
  }
 },
 "nbformat": 4,
 "nbformat_minor": 2
}
